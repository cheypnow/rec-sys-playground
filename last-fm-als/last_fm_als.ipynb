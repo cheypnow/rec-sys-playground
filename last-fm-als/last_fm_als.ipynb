{
 "cells": [
  {
   "cell_type": "code",
   "execution_count": 1,
   "id": "cdb8726a-1add-4107-8ec0-7ebd9b5a0b4f",
   "metadata": {},
   "outputs": [],
   "source": [
    "from implicit.datasets.lastfm import get_lastfm\n",
    "from implicit.nearest_neighbours import bm25_weight\n",
    "from implicit.als import AlternatingLeastSquares\n",
    "import numpy as np\n",
    "import pandas as pd"
   ]
  },
  {
   "cell_type": "markdown",
   "id": "0f6a4ce1-f3b8-4be2-98be-3a479c9f7696",
   "metadata": {},
   "source": [
    "# Load dataset"
   ]
  },
  {
   "cell_type": "code",
   "execution_count": 2,
   "id": "4b35ff2c-dbb4-43a0-8ca4-a935f756c6b4",
   "metadata": {},
   "outputs": [],
   "source": [
    "artists, users, artist_user_plays = get_lastfm()"
   ]
  },
  {
   "cell_type": "markdown",
   "id": "06ffbd2b-07f7-4506-b58d-10857b988fcc",
   "metadata": {},
   "source": [
    "# Train model"
   ]
  },
  {
   "cell_type": "code",
   "execution_count": 3,
   "id": "5b30528b-38a3-4424-9ecf-9f29c84a9ce0",
   "metadata": {},
   "outputs": [],
   "source": [
    "# weight the matrix, both to reduce impact of users that have played the same artist thousands of times\n",
    "# and to reduce the weight given to popular items\n",
    "artist_user_plays = bm25_weight(artist_user_plays, K1=100, B=0.8)\n",
    "\n",
    "# get the transpose since the most of the functions in implicit expect (user, item) sparse matrices instead of (item, user)\n",
    "user_plays = artist_user_plays.T.tocsr()"
   ]
  },
  {
   "cell_type": "code",
   "execution_count": 4,
   "id": "2e22fb94-7101-4ef8-ad10-a66c0d9ebf67",
   "metadata": {},
   "outputs": [
    {
     "name": "stderr",
     "output_type": "stream",
     "text": [
      "/home/egor/projects/rec-sys-playground/last-fm-als/venv/lib/python3.10/site-packages/implicit/cpu/als.py:95: RuntimeWarning: OpenBLAS is configured to use 12 threads. It is highly recommended to disable its internal threadpool by setting the environment variable 'OPENBLAS_NUM_THREADS=1' or by calling 'threadpoolctl.threadpool_limits(1, \"blas\")'. Having OpenBLAS use a threadpool can lead to severe performance issues here.\n",
      "  check_blas_config()\n"
     ]
    },
    {
     "data": {
      "application/vnd.jupyter.widget-view+json": {
       "model_id": "cfabca98767b48e589e5bb5f6e9fe79f",
       "version_major": 2,
       "version_minor": 0
      },
      "text/plain": [
       "  0%|          | 0/15 [00:00<?, ?it/s]"
      ]
     },
     "metadata": {},
     "output_type": "display_data"
    }
   ],
   "source": [
    "model = AlternatingLeastSquares(factors=64, regularization=0.05, alpha=2.0)\n",
    "model.fit(user_plays)"
   ]
  },
  {
   "cell_type": "markdown",
   "id": "fac899da-9d02-4833-bff9-282b2d38ef94",
   "metadata": {},
   "source": [
    "# Get recommandations"
   ]
  },
  {
   "cell_type": "code",
   "execution_count": 12,
   "id": "34280a6d-0e0d-4fe1-a209-690ac11bc98f",
   "metadata": {},
   "outputs": [],
   "source": [
    "# Get recommendations for the a single user\n",
    "def get_recommendations(model, user_plays, user_id, filter_already_liked_items):\n",
    "    ids, scores = model.recommend(user_id, user_plays[user_id], N=10, filter_already_liked_items=filter_already_liked_items)\n",
    "    return pd.DataFrame({\"artist\": artists[ids], \"score\": scores, \"already_liked\": np.in1d(ids, user_plays[user_id].indices)})"
   ]
  },
  {
   "cell_type": "code",
   "execution_count": 13,
   "id": "8d7b005b-8df7-4248-8b89-6fa90cdd8bb6",
   "metadata": {},
   "outputs": [
    {
     "data": {
      "text/html": [
       "<div>\n",
       "<style scoped>\n",
       "    .dataframe tbody tr th:only-of-type {\n",
       "        vertical-align: middle;\n",
       "    }\n",
       "\n",
       "    .dataframe tbody tr th {\n",
       "        vertical-align: top;\n",
       "    }\n",
       "\n",
       "    .dataframe thead th {\n",
       "        text-align: right;\n",
       "    }\n",
       "</style>\n",
       "<table border=\"1\" class=\"dataframe\">\n",
       "  <thead>\n",
       "    <tr style=\"text-align: right;\">\n",
       "      <th></th>\n",
       "      <th>artist</th>\n",
       "      <th>score</th>\n",
       "      <th>already_liked</th>\n",
       "    </tr>\n",
       "  </thead>\n",
       "  <tbody>\n",
       "    <tr>\n",
       "      <th>0</th>\n",
       "      <td>puissance</td>\n",
       "      <td>1.010351</td>\n",
       "      <td>True</td>\n",
       "    </tr>\n",
       "    <tr>\n",
       "      <th>1</th>\n",
       "      <td>laibach</td>\n",
       "      <td>0.987085</td>\n",
       "      <td>False</td>\n",
       "    </tr>\n",
       "    <tr>\n",
       "      <th>2</th>\n",
       "      <td>rome</td>\n",
       "      <td>0.982097</td>\n",
       "      <td>True</td>\n",
       "    </tr>\n",
       "    <tr>\n",
       "      <th>3</th>\n",
       "      <td>von thronstahl</td>\n",
       "      <td>0.974682</td>\n",
       "      <td>True</td>\n",
       "    </tr>\n",
       "    <tr>\n",
       "      <th>4</th>\n",
       "      <td>the coffinshakers</td>\n",
       "      <td>0.972303</td>\n",
       "      <td>True</td>\n",
       "    </tr>\n",
       "    <tr>\n",
       "      <th>5</th>\n",
       "      <td>mortiis</td>\n",
       "      <td>0.970911</td>\n",
       "      <td>True</td>\n",
       "    </tr>\n",
       "    <tr>\n",
       "      <th>6</th>\n",
       "      <td>d-a-d</td>\n",
       "      <td>0.957738</td>\n",
       "      <td>True</td>\n",
       "    </tr>\n",
       "    <tr>\n",
       "      <th>7</th>\n",
       "      <td>kreuzweg ost</td>\n",
       "      <td>0.956606</td>\n",
       "      <td>True</td>\n",
       "    </tr>\n",
       "    <tr>\n",
       "      <th>8</th>\n",
       "      <td>arditi</td>\n",
       "      <td>0.952835</td>\n",
       "      <td>True</td>\n",
       "    </tr>\n",
       "    <tr>\n",
       "      <th>9</th>\n",
       "      <td>triarii</td>\n",
       "      <td>0.951422</td>\n",
       "      <td>True</td>\n",
       "    </tr>\n",
       "  </tbody>\n",
       "</table>\n",
       "</div>"
      ],
      "text/plain": [
       "              artist     score  already_liked\n",
       "0          puissance  1.010351           True\n",
       "1            laibach  0.987085          False\n",
       "2               rome  0.982097           True\n",
       "3     von thronstahl  0.974682           True\n",
       "4  the coffinshakers  0.972303           True\n",
       "5            mortiis  0.970911           True\n",
       "6              d-a-d  0.957738           True\n",
       "7       kreuzweg ost  0.956606           True\n",
       "8             arditi  0.952835           True\n",
       "9            triarii  0.951422           True"
      ]
     },
     "execution_count": 13,
     "metadata": {},
     "output_type": "execute_result"
    }
   ],
   "source": [
    "get_recommendations(model=model, user_plays=user_plays, user_id=12345, filter_already_liked_items=False)"
   ]
  },
  {
   "cell_type": "code",
   "execution_count": 14,
   "id": "79f6e3ac-a9be-42af-88ec-8a93dbbe4d6d",
   "metadata": {},
   "outputs": [
    {
     "data": {
      "text/html": [
       "<div>\n",
       "<style scoped>\n",
       "    .dataframe tbody tr th:only-of-type {\n",
       "        vertical-align: middle;\n",
       "    }\n",
       "\n",
       "    .dataframe tbody tr th {\n",
       "        vertical-align: top;\n",
       "    }\n",
       "\n",
       "    .dataframe thead th {\n",
       "        text-align: right;\n",
       "    }\n",
       "</style>\n",
       "<table border=\"1\" class=\"dataframe\">\n",
       "  <thead>\n",
       "    <tr style=\"text-align: right;\">\n",
       "      <th></th>\n",
       "      <th>artist</th>\n",
       "      <th>score</th>\n",
       "      <th>already_liked</th>\n",
       "    </tr>\n",
       "  </thead>\n",
       "  <tbody>\n",
       "    <tr>\n",
       "      <th>0</th>\n",
       "      <td>laibach</td>\n",
       "      <td>0.987085</td>\n",
       "      <td>False</td>\n",
       "    </tr>\n",
       "    <tr>\n",
       "      <th>1</th>\n",
       "      <td>spiritual front</td>\n",
       "      <td>0.943995</td>\n",
       "      <td>False</td>\n",
       "    </tr>\n",
       "    <tr>\n",
       "      <th>2</th>\n",
       "      <td>ordo rosarius equilibrio</td>\n",
       "      <td>0.941346</td>\n",
       "      <td>False</td>\n",
       "    </tr>\n",
       "    <tr>\n",
       "      <th>3</th>\n",
       "      <td>forseti</td>\n",
       "      <td>0.928550</td>\n",
       "      <td>False</td>\n",
       "    </tr>\n",
       "    <tr>\n",
       "      <th>4</th>\n",
       "      <td>blood axis</td>\n",
       "      <td>0.916849</td>\n",
       "      <td>False</td>\n",
       "    </tr>\n",
       "    <tr>\n",
       "      <th>5</th>\n",
       "      <td>sonne hagal</td>\n",
       "      <td>0.912741</td>\n",
       "      <td>False</td>\n",
       "    </tr>\n",
       "    <tr>\n",
       "      <th>6</th>\n",
       "      <td>ordo equilibrio</td>\n",
       "      <td>0.909935</td>\n",
       "      <td>False</td>\n",
       "    </tr>\n",
       "    <tr>\n",
       "      <th>7</th>\n",
       "      <td>of the wand and the moon</td>\n",
       "      <td>0.908993</td>\n",
       "      <td>False</td>\n",
       "    </tr>\n",
       "    <tr>\n",
       "      <th>8</th>\n",
       "      <td>dernière volonté</td>\n",
       "      <td>0.904741</td>\n",
       "      <td>False</td>\n",
       "    </tr>\n",
       "    <tr>\n",
       "      <th>9</th>\n",
       "      <td>in slaughter natives</td>\n",
       "      <td>0.904502</td>\n",
       "      <td>False</td>\n",
       "    </tr>\n",
       "  </tbody>\n",
       "</table>\n",
       "</div>"
      ],
      "text/plain": [
       "                     artist     score  already_liked\n",
       "0                   laibach  0.987085          False\n",
       "1           spiritual front  0.943995          False\n",
       "2  ordo rosarius equilibrio  0.941346          False\n",
       "3                   forseti  0.928550          False\n",
       "4                blood axis  0.916849          False\n",
       "5               sonne hagal  0.912741          False\n",
       "6           ordo equilibrio  0.909935          False\n",
       "7  of the wand and the moon  0.908993          False\n",
       "8          dernière volonté  0.904741          False\n",
       "9      in slaughter natives  0.904502          False"
      ]
     },
     "execution_count": 14,
     "metadata": {},
     "output_type": "execute_result"
    }
   ],
   "source": [
    "get_recommendations(model=model, user_plays=user_plays, user_id=12345, filter_already_liked_items=True)"
   ]
  },
  {
   "cell_type": "markdown",
   "id": "96374a3d-d311-4055-955f-c7aa14b4d0ad",
   "metadata": {},
   "source": [
    "# Recommend similar items"
   ]
  },
  {
   "cell_type": "code",
   "execution_count": 15,
   "id": "8f6349fe-1c73-4ae4-a255-5468c2c3dc56",
   "metadata": {},
   "outputs": [
    {
     "data": {
      "text/html": [
       "<div>\n",
       "<style scoped>\n",
       "    .dataframe tbody tr th:only-of-type {\n",
       "        vertical-align: middle;\n",
       "    }\n",
       "\n",
       "    .dataframe tbody tr th {\n",
       "        vertical-align: top;\n",
       "    }\n",
       "\n",
       "    .dataframe thead th {\n",
       "        text-align: right;\n",
       "    }\n",
       "</style>\n",
       "<table border=\"1\" class=\"dataframe\">\n",
       "  <thead>\n",
       "    <tr style=\"text-align: right;\">\n",
       "      <th></th>\n",
       "      <th>artist</th>\n",
       "      <th>score</th>\n",
       "    </tr>\n",
       "  </thead>\n",
       "  <tbody>\n",
       "    <tr>\n",
       "      <th>0</th>\n",
       "      <td>the beatles</td>\n",
       "      <td>1.000000</td>\n",
       "    </tr>\n",
       "    <tr>\n",
       "      <th>1</th>\n",
       "      <td>the beach boys</td>\n",
       "      <td>0.993613</td>\n",
       "    </tr>\n",
       "    <tr>\n",
       "      <th>2</th>\n",
       "      <td>the rolling stones</td>\n",
       "      <td>0.993535</td>\n",
       "    </tr>\n",
       "    <tr>\n",
       "      <th>3</th>\n",
       "      <td>john lennon</td>\n",
       "      <td>0.992937</td>\n",
       "    </tr>\n",
       "    <tr>\n",
       "      <th>4</th>\n",
       "      <td>bob dylan</td>\n",
       "      <td>0.992382</td>\n",
       "    </tr>\n",
       "    <tr>\n",
       "      <th>5</th>\n",
       "      <td>the who</td>\n",
       "      <td>0.992356</td>\n",
       "    </tr>\n",
       "    <tr>\n",
       "      <th>6</th>\n",
       "      <td>simon &amp; garfunkel</td>\n",
       "      <td>0.991736</td>\n",
       "    </tr>\n",
       "    <tr>\n",
       "      <th>7</th>\n",
       "      <td>david bowie</td>\n",
       "      <td>0.991602</td>\n",
       "    </tr>\n",
       "    <tr>\n",
       "      <th>8</th>\n",
       "      <td>led zeppelin</td>\n",
       "      <td>0.991265</td>\n",
       "    </tr>\n",
       "    <tr>\n",
       "      <th>9</th>\n",
       "      <td>the white stripes</td>\n",
       "      <td>0.990274</td>\n",
       "    </tr>\n",
       "  </tbody>\n",
       "</table>\n",
       "</div>"
      ],
      "text/plain": [
       "               artist     score\n",
       "0         the beatles  1.000000\n",
       "1      the beach boys  0.993613\n",
       "2  the rolling stones  0.993535\n",
       "3         john lennon  0.992937\n",
       "4           bob dylan  0.992382\n",
       "5             the who  0.992356\n",
       "6   simon & garfunkel  0.991736\n",
       "7         david bowie  0.991602\n",
       "8        led zeppelin  0.991265\n",
       "9   the white stripes  0.990274"
      ]
     },
     "execution_count": 15,
     "metadata": {},
     "output_type": "execute_result"
    }
   ],
   "source": [
    "# get related items for the beatles (itemid = 25512)\n",
    "ids, scores= model.similar_items(252512)\n",
    "\n",
    "# display the results using pandas for nicer formatting\n",
    "pd.DataFrame({\"artist\": artists[ids], \"score\": scores})"
   ]
  }
 ],
 "metadata": {
  "kernelspec": {
   "display_name": "last_fm_als",
   "language": "python",
   "name": "last_fm_als"
  },
  "language_info": {
   "codemirror_mode": {
    "name": "ipython",
    "version": 3
   },
   "file_extension": ".py",
   "mimetype": "text/x-python",
   "name": "python",
   "nbconvert_exporter": "python",
   "pygments_lexer": "ipython3",
   "version": "3.10.12"
  }
 },
 "nbformat": 4,
 "nbformat_minor": 5
}
