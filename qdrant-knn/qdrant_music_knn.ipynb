{
 "cells": [
  {
   "cell_type": "code",
   "execution_count": 1,
   "id": "d06f0adb-e83f-48f0-bffa-897af7a6ae54",
   "metadata": {},
   "outputs": [
    {
     "name": "stderr",
     "output_type": "stream",
     "text": [
      "2024-01-04 22:46:15.970428: I tensorflow/core/util/port.cc:113] oneDNN custom operations are on. You may see slightly different numerical results due to floating-point round-off errors from different computation orders. To turn them off, set the environment variable `TF_ENABLE_ONEDNN_OPTS=0`.\n",
      "2024-01-04 22:46:15.993853: E external/local_xla/xla/stream_executor/cuda/cuda_dnn.cc:9261] Unable to register cuDNN factory: Attempting to register factory for plugin cuDNN when one has already been registered\n",
      "2024-01-04 22:46:15.993879: E external/local_xla/xla/stream_executor/cuda/cuda_fft.cc:607] Unable to register cuFFT factory: Attempting to register factory for plugin cuFFT when one has already been registered\n",
      "2024-01-04 22:46:15.994543: E external/local_xla/xla/stream_executor/cuda/cuda_blas.cc:1515] Unable to register cuBLAS factory: Attempting to register factory for plugin cuBLAS when one has already been registered\n",
      "2024-01-04 22:46:15.998859: I tensorflow/core/platform/cpu_feature_guard.cc:182] This TensorFlow binary is optimized to use available CPU instructions in performance-critical operations.\n",
      "To enable the following instructions: AVX2 AVX_VNNI FMA, in other operations, rebuild TensorFlow with the appropriate compiler flags.\n",
      "2024-01-04 22:46:16.465674: W tensorflow/compiler/tf2tensorrt/utils/py_utils.cc:38] TF-TRT Warning: Could not find TensorRT\n"
     ]
    }
   ],
   "source": [
    "from transformers import AutoFeatureExtractor, AutoModel\n",
    "from IPython.display import Audio as player\n",
    "from datasets import load_dataset, Audio\n",
    "from panns_inference import AudioTagging\n",
    "from qdrant_client import QdrantClient\n",
    "from qdrant_client.http import models\n",
    "from os.path import join\n",
    "from glob import glob\n",
    "import pandas as pd\n",
    "import numpy as np\n",
    "import librosa\n",
    "import openl3\n",
    "import torch"
   ]
  },
  {
   "cell_type": "code",
   "execution_count": 2,
   "id": "7b599bc7-4e72-4a48-bfed-41abb7f7399c",
   "metadata": {},
   "outputs": [],
   "source": [
    "client = QdrantClient(host=\"localhost\", port=6333)"
   ]
  },
  {
   "cell_type": "code",
   "execution_count": 3,
   "id": "f3e4e2e6-0184-4c87-90cb-7fa3acbc55ea",
   "metadata": {},
   "outputs": [
    {
     "data": {
      "text/plain": [
       "True"
      ]
     },
     "execution_count": 3,
     "metadata": {},
     "output_type": "execute_result"
    }
   ],
   "source": [
    "my_collection = \"music_collection\"\n",
    "client.recreate_collection(\n",
    "    collection_name=my_collection,\n",
    "    vectors_config=models.VectorParams(size=2048, distance=models.Distance.COSINE)\n",
    ")"
   ]
  },
  {
   "cell_type": "markdown",
   "id": "50c1412e-1058-4e7a-9b30-192796df2325",
   "metadata": {},
   "source": [
    "# Load dataset"
   ]
  },
  {
   "cell_type": "code",
   "execution_count": 4,
   "id": "52e12a67-f344-4fa6-bd90-ffb79749c797",
   "metadata": {},
   "outputs": [
    {
     "data": {
      "text/plain": [
       "'/home/egor/datasets/ludwig_music_data'"
      ]
     },
     "execution_count": 4,
     "metadata": {},
     "output_type": "execute_result"
    }
   ],
   "source": [
    "data_path = join(\"/\", \"home\", \"egor\", \"datasets\", \"ludwig_music_data\")\n",
    "data_path"
   ]
  },
  {
   "cell_type": "code",
   "execution_count": 5,
   "id": "c057243d-4e41-411f-8a7e-6aba2016884b",
   "metadata": {},
   "outputs": [
    {
     "data": {
      "application/vnd.jupyter.widget-view+json": {
       "model_id": "03a8693d829b4c5b9928fdc00927d08e",
       "version_major": 2,
       "version_minor": 0
      },
      "text/plain": [
       "Resolving data files:   0%|          | 0/979 [00:00<?, ?it/s]"
      ]
     },
     "metadata": {},
     "output_type": "display_data"
    },
    {
     "data": {
      "text/plain": [
       "Dataset({\n",
       "    features: ['audio'],\n",
       "    num_rows: 979\n",
       "})"
      ]
     },
     "execution_count": 5,
     "metadata": {},
     "output_type": "execute_result"
    }
   ],
   "source": [
    "music_data = load_dataset(\n",
    "    \"audiofolder\", data_dir=join(data_path, \"mp3\", \"latin\"), split=\"train\", drop_labels=True\n",
    ")\n",
    "music_data"
   ]
  },
  {
   "cell_type": "code",
   "execution_count": 6,
   "id": "abd612e0-734e-4014-8f21-dfc2dd5539c8",
   "metadata": {},
   "outputs": [
    {
     "data": {
      "text/plain": [
       "{'audio': {'path': '/home/egor/datasets/ludwig_music_data/mp3/latin/0rXvhxGisD2djBmNkrv5Gt.mp3',\n",
       "  'array': array([ 0.00000000e+00,  1.24776700e-09, -4.54397187e-10, ...,\n",
       "         -7.98814446e-02, -8.84955898e-02, -1.05223551e-01]),\n",
       "  'sampling_rate': 44100}}"
      ]
     },
     "execution_count": 6,
     "metadata": {},
     "output_type": "execute_result"
    }
   ],
   "source": [
    "music_data[115]"
   ]
  },
  {
   "cell_type": "code",
   "execution_count": 7,
   "id": "453259aa-cab8-46d4-874e-71e05c4e254c",
   "metadata": {},
   "outputs": [
    {
     "data": {
      "text/plain": [
       "['0010BnyFuw94XFautS2uJp',\n",
       " '00RhgYVH6DrHl0SuZWDp8W',\n",
       " '01k69xxIQGL94F8IfIkI5l',\n",
       " '02GUIyXZ9RNusgUocEQIzN']"
      ]
     },
     "execution_count": 7,
     "metadata": {},
     "output_type": "execute_result"
    }
   ],
   "source": [
    "ids = [\n",
    "    (\n",
    "     music_data[i] # for every sample\n",
    "     ['audio'] # in this directory\n",
    "     ['path'] # extract the path\n",
    "     .split(\"/\") # split it by /\n",
    "     [-1] # take only the last piece \"id.mp3\"\n",
    "     .replace(\".mp3\", '') # and replace the .mp3 with nothing\n",
    "    ) \n",
    "    for i in range(len(music_data))\n",
    "]\n",
    "index = [num for num in range(len(music_data))]\n",
    "ids[:4]"
   ]
  },
  {
   "cell_type": "code",
   "execution_count": 8,
   "id": "ab7864de-7efe-46d7-a0f9-0703afce954b",
   "metadata": {},
   "outputs": [
    {
     "data": {
      "text/plain": [
       "{'audio': {'path': '/home/egor/datasets/ludwig_music_data/mp3/latin/7yX4WgUfoPpMKZHgqpaZ0x.mp3',\n",
       "  'array': array([ 0.00000000e+00, -1.40022882e-09, -4.44221415e-09, ...,\n",
       "         -9.52053051e-02, -8.90597273e-02, -8.10846481e-02]),\n",
       "  'sampling_rate': 44100},\n",
       " 'index': 978,\n",
       " 'ids': '7yX4WgUfoPpMKZHgqpaZ0x'}"
      ]
     },
     "execution_count": 8,
     "metadata": {},
     "output_type": "execute_result"
    }
   ],
   "source": [
    "music_data = music_data.add_column(\"index\", index)\n",
    "music_data = music_data.add_column(\"ids\", ids)\n",
    "music_data[-1]"
   ]
  },
  {
   "cell_type": "code",
   "execution_count": 9,
   "id": "8ce205b7-2d5c-462b-875d-788d56e14857",
   "metadata": {},
   "outputs": [
    {
     "data": {
      "text/html": [
       "<div>\n",
       "<style scoped>\n",
       "    .dataframe tbody tr th:only-of-type {\n",
       "        vertical-align: middle;\n",
       "    }\n",
       "\n",
       "    .dataframe tbody tr th {\n",
       "        vertical-align: top;\n",
       "    }\n",
       "\n",
       "    .dataframe thead th {\n",
       "        text-align: right;\n",
       "    }\n",
       "</style>\n",
       "<table border=\"1\" class=\"dataframe\">\n",
       "  <thead>\n",
       "    <tr style=\"text-align: right;\">\n",
       "      <th></th>\n",
       "      <th>tracks</th>\n",
       "    </tr>\n",
       "  </thead>\n",
       "  <tbody>\n",
       "    <tr>\n",
       "      <th>000QWvZpHrBIVrW4dGbaVI</th>\n",
       "      <td>{'otherSubgenres': {'L': [{'S': 'electronic---...</td>\n",
       "    </tr>\n",
       "    <tr>\n",
       "      <th>0010BnyFuw94XFautS2uJp</th>\n",
       "      <td>{'otherSubgenres': {'L': [{'S': ' world'}, {'S...</td>\n",
       "    </tr>\n",
       "    <tr>\n",
       "      <th>0055LRFB7zfdCXDGodyIz3</th>\n",
       "      <td>{'otherSubgenres': {'L': []}, 'artist': {'S': ...</td>\n",
       "    </tr>\n",
       "    <tr>\n",
       "      <th>005Dlt8Xaz3DkaXiRJgdiS</th>\n",
       "      <td>{'otherSubgenres': {'L': [{'S': 'rock'}, {'S':...</td>\n",
       "    </tr>\n",
       "    <tr>\n",
       "      <th>006RpKEKItNO4q8TkAUpOv</th>\n",
       "      <td>{'otherSubgenres': {'L': [{'S': 'classical---c...</td>\n",
       "    </tr>\n",
       "  </tbody>\n",
       "</table>\n",
       "</div>"
      ],
      "text/plain": [
       "                                                                   tracks\n",
       "000QWvZpHrBIVrW4dGbaVI  {'otherSubgenres': {'L': [{'S': 'electronic---...\n",
       "0010BnyFuw94XFautS2uJp  {'otherSubgenres': {'L': [{'S': ' world'}, {'S...\n",
       "0055LRFB7zfdCXDGodyIz3  {'otherSubgenres': {'L': []}, 'artist': {'S': ...\n",
       "005Dlt8Xaz3DkaXiRJgdiS  {'otherSubgenres': {'L': [{'S': 'rock'}, {'S':...\n",
       "006RpKEKItNO4q8TkAUpOv  {'otherSubgenres': {'L': [{'S': 'classical---c..."
      ]
     },
     "execution_count": 9,
     "metadata": {},
     "output_type": "execute_result"
    }
   ],
   "source": [
    "label_path = join(data_path, \"labels.json\")\n",
    "labels = pd.read_json(label_path)\n",
    "labels.head()"
   ]
  },
  {
   "cell_type": "code",
   "execution_count": 11,
   "id": "46417bb2-71ab-478f-98b3-abee898708a1",
   "metadata": {},
   "outputs": [],
   "source": [
    "def get_metadata(x):\n",
    "    cols = ['artist', 'genre', 'name', 'subgenres']\n",
    "    list_of_cols = []\n",
    "    for col in cols:\n",
    "        try:\n",
    "            mdata = list(x[col].values())[0]\n",
    "        except:\n",
    "            mdata = \"Unknown\"\n",
    "        list_of_cols.append(mdata)\n",
    "\n",
    "    return pd.Series(list_of_cols, index=cols)"
   ]
  },
  {
   "cell_type": "code",
   "execution_count": 12,
   "id": "e51b799b-e7bb-49d7-8755-ce148bd8b3ae",
   "metadata": {},
   "outputs": [
    {
     "data": {
      "text/html": [
       "<div>\n",
       "<style scoped>\n",
       "    .dataframe tbody tr th:only-of-type {\n",
       "        vertical-align: middle;\n",
       "    }\n",
       "\n",
       "    .dataframe tbody tr th {\n",
       "        vertical-align: top;\n",
       "    }\n",
       "\n",
       "    .dataframe thead th {\n",
       "        text-align: right;\n",
       "    }\n",
       "</style>\n",
       "<table border=\"1\" class=\"dataframe\">\n",
       "  <thead>\n",
       "    <tr style=\"text-align: right;\">\n",
       "      <th></th>\n",
       "      <th>index</th>\n",
       "      <th>artist</th>\n",
       "      <th>genre</th>\n",
       "      <th>name</th>\n",
       "      <th>subgenres</th>\n",
       "    </tr>\n",
       "  </thead>\n",
       "  <tbody>\n",
       "    <tr>\n",
       "      <th>0</th>\n",
       "      <td>000QWvZpHrBIVrW4dGbaVI</td>\n",
       "      <td>047</td>\n",
       "      <td>electronic</td>\n",
       "      <td>General Error</td>\n",
       "      <td>[{'S': 'electronic---synth-pop'}]</td>\n",
       "    </tr>\n",
       "    <tr>\n",
       "      <th>1</th>\n",
       "      <td>0010BnyFuw94XFautS2uJp</td>\n",
       "      <td>Jimmy Buffett</td>\n",
       "      <td>latin</td>\n",
       "      <td>La Vie Dansante</td>\n",
       "      <td>[{'S': 'latin---cubano'}]</td>\n",
       "    </tr>\n",
       "    <tr>\n",
       "      <th>2</th>\n",
       "      <td>0055LRFB7zfdCXDGodyIz3</td>\n",
       "      <td>New Order</td>\n",
       "      <td>rock</td>\n",
       "      <td>Doubts Even Here</td>\n",
       "      <td>[{'S': 'rock---new wave'}]</td>\n",
       "    </tr>\n",
       "    <tr>\n",
       "      <th>3</th>\n",
       "      <td>005Dlt8Xaz3DkaXiRJgdiS</td>\n",
       "      <td>Ricardo Arjona</td>\n",
       "      <td>rock</td>\n",
       "      <td>Historia de Taxi</td>\n",
       "      <td>[{'S': 'rock---pop rock'}]</td>\n",
       "    </tr>\n",
       "    <tr>\n",
       "      <th>4</th>\n",
       "      <td>006RpKEKItNO4q8TkAUpOv</td>\n",
       "      <td>Worrytrain</td>\n",
       "      <td>electronic</td>\n",
       "      <td>They Will Make My Passage Easy</td>\n",
       "      <td>[{'S': 'electronic---ambient'}]</td>\n",
       "    </tr>\n",
       "  </tbody>\n",
       "</table>\n",
       "</div>"
      ],
      "text/plain": [
       "                    index          artist       genre  \\\n",
       "0  000QWvZpHrBIVrW4dGbaVI             047  electronic   \n",
       "1  0010BnyFuw94XFautS2uJp   Jimmy Buffett       latin   \n",
       "2  0055LRFB7zfdCXDGodyIz3       New Order        rock   \n",
       "3  005Dlt8Xaz3DkaXiRJgdiS  Ricardo Arjona        rock   \n",
       "4  006RpKEKItNO4q8TkAUpOv      Worrytrain  electronic   \n",
       "\n",
       "                             name                          subgenres  \n",
       "0                   General Error  [{'S': 'electronic---synth-pop'}]  \n",
       "1                 La Vie Dansante          [{'S': 'latin---cubano'}]  \n",
       "2                Doubts Even Here         [{'S': 'rock---new wave'}]  \n",
       "3                Historia de Taxi         [{'S': 'rock---pop rock'}]  \n",
       "4  They Will Make My Passage Easy    [{'S': 'electronic---ambient'}]  "
      ]
     },
     "execution_count": 12,
     "metadata": {},
     "output_type": "execute_result"
    }
   ],
   "source": [
    "clean_labels = labels['tracks'].apply(get_metadata).reset_index()\n",
    "clean_labels.head()"
   ]
  },
  {
   "cell_type": "code",
   "execution_count": 13,
   "id": "4d397276-6e6c-40aa-9290-b36b3faad308",
   "metadata": {},
   "outputs": [
    {
     "data": {
      "text/plain": [
       "0    [electronic---synth-pop]\n",
       "1            [latin---cubano]\n",
       "2           [rock---new wave]\n",
       "3           [rock---pop rock]\n",
       "4      [electronic---ambient]\n",
       "Name: subgenres, dtype: object"
      ]
     },
     "execution_count": 13,
     "metadata": {},
     "output_type": "execute_result"
    }
   ],
   "source": [
    "def get_vals(genres):\n",
    "    genre_list = []\n",
    "    for dicts in genres:\n",
    "        if type(dicts) != str:\n",
    "            for _, val in dicts.items():\n",
    "                genre_list.append(val)\n",
    "    return genre_list\n",
    "\n",
    "clean_labels['subgenres'] = clean_labels.subgenres.apply(get_vals)\n",
    "clean_labels['subgenres'].head()"
   ]
  },
  {
   "cell_type": "code",
   "execution_count": 14,
   "id": "deb2da10-801f-4ab2-bfb6-746831f5a40c",
   "metadata": {},
   "outputs": [
    {
     "data": {
      "text/html": [
       "<div>\n",
       "<style scoped>\n",
       "    .dataframe tbody tr th:only-of-type {\n",
       "        vertical-align: middle;\n",
       "    }\n",
       "\n",
       "    .dataframe tbody tr th {\n",
       "        vertical-align: top;\n",
       "    }\n",
       "\n",
       "    .dataframe thead th {\n",
       "        text-align: right;\n",
       "    }\n",
       "</style>\n",
       "<table border=\"1\" class=\"dataframe\">\n",
       "  <thead>\n",
       "    <tr style=\"text-align: right;\">\n",
       "      <th></th>\n",
       "      <th>ids</th>\n",
       "      <th>urls</th>\n",
       "    </tr>\n",
       "  </thead>\n",
       "  <tbody>\n",
       "    <tr>\n",
       "      <th>0</th>\n",
       "      <td>5AiPEB0ibDHZLnVfkOfHJT</td>\n",
       "      <td>/home/egor/datasets/ludwig_music_data/mp3/lati...</td>\n",
       "    </tr>\n",
       "    <tr>\n",
       "      <th>1</th>\n",
       "      <td>5irSOlA7zXrwkJHVPgyVZQ</td>\n",
       "      <td>/home/egor/datasets/ludwig_music_data/mp3/lati...</td>\n",
       "    </tr>\n",
       "    <tr>\n",
       "      <th>2</th>\n",
       "      <td>6607INWM4gWwj0bGFVo4vz</td>\n",
       "      <td>/home/egor/datasets/ludwig_music_data/mp3/lati...</td>\n",
       "    </tr>\n",
       "    <tr>\n",
       "      <th>3</th>\n",
       "      <td>1Z8LrlAVTxVeuKjRa0xg1a</td>\n",
       "      <td>/home/egor/datasets/ludwig_music_data/mp3/lati...</td>\n",
       "    </tr>\n",
       "    <tr>\n",
       "      <th>4</th>\n",
       "      <td>4ZhzXzvYuF27CfaOfYT8u2</td>\n",
       "      <td>/home/egor/datasets/ludwig_music_data/mp3/lati...</td>\n",
       "    </tr>\n",
       "  </tbody>\n",
       "</table>\n",
       "</div>"
      ],
      "text/plain": [
       "                      ids                                               urls\n",
       "0  5AiPEB0ibDHZLnVfkOfHJT  /home/egor/datasets/ludwig_music_data/mp3/lati...\n",
       "1  5irSOlA7zXrwkJHVPgyVZQ  /home/egor/datasets/ludwig_music_data/mp3/lati...\n",
       "2  6607INWM4gWwj0bGFVo4vz  /home/egor/datasets/ludwig_music_data/mp3/lati...\n",
       "3  1Z8LrlAVTxVeuKjRa0xg1a  /home/egor/datasets/ludwig_music_data/mp3/lati...\n",
       "4  4ZhzXzvYuF27CfaOfYT8u2  /home/egor/datasets/ludwig_music_data/mp3/lati..."
      ]
     },
     "execution_count": 14,
     "metadata": {},
     "output_type": "execute_result"
    }
   ],
   "source": [
    "file_path = join(data_path, \"mp3\", \"latin\", \"*.mp3\")\n",
    "files = glob(file_path)\n",
    "ids = [i.split('/')[-1].replace(\".mp3\", '') for i in files]\n",
    "music_paths = pd.DataFrame(zip(ids, files), columns=[\"ids\", 'urls'])\n",
    "music_paths.head()"
   ]
  },
  {
   "cell_type": "code",
   "execution_count": 15,
   "id": "f06d191b-ea2a-490d-8015-8df8867fcc75",
   "metadata": {},
   "outputs": [
    {
     "data": {
      "text/html": [
       "<div>\n",
       "<style scoped>\n",
       "    .dataframe tbody tr th:only-of-type {\n",
       "        vertical-align: middle;\n",
       "    }\n",
       "\n",
       "    .dataframe tbody tr th {\n",
       "        vertical-align: top;\n",
       "    }\n",
       "\n",
       "    .dataframe thead th {\n",
       "        text-align: right;\n",
       "    }\n",
       "</style>\n",
       "<table border=\"1\" class=\"dataframe\">\n",
       "  <thead>\n",
       "    <tr style=\"text-align: right;\">\n",
       "      <th></th>\n",
       "      <th>index</th>\n",
       "      <th>ids</th>\n",
       "      <th>artist</th>\n",
       "      <th>genre</th>\n",
       "      <th>name</th>\n",
       "      <th>subgenres</th>\n",
       "      <th>urls</th>\n",
       "    </tr>\n",
       "  </thead>\n",
       "  <tbody>\n",
       "    <tr>\n",
       "      <th>0</th>\n",
       "      <td>0</td>\n",
       "      <td>0010BnyFuw94XFautS2uJp</td>\n",
       "      <td>Jimmy Buffett</td>\n",
       "      <td>latin</td>\n",
       "      <td>La Vie Dansante</td>\n",
       "      <td>[latin---cubano]</td>\n",
       "      <td>/home/egor/datasets/ludwig_music_data/mp3/lati...</td>\n",
       "    </tr>\n",
       "    <tr>\n",
       "      <th>1</th>\n",
       "      <td>1</td>\n",
       "      <td>00RhgYVH6DrHl0SuZWDp8W</td>\n",
       "      <td>Jimmy Buffett</td>\n",
       "      <td>latin</td>\n",
       "      <td>Brown Eyed Girl</td>\n",
       "      <td>[latin---cubano]</td>\n",
       "      <td>/home/egor/datasets/ludwig_music_data/mp3/lati...</td>\n",
       "    </tr>\n",
       "    <tr>\n",
       "      <th>2</th>\n",
       "      <td>2</td>\n",
       "      <td>01k69xxIQGL94F8IfIkI5l</td>\n",
       "      <td>Los Delinqüentes</td>\n",
       "      <td>latin</td>\n",
       "      <td>Fumata Del Ladrillo</td>\n",
       "      <td>[latin---flamenco, rock---punk]</td>\n",
       "      <td>/home/egor/datasets/ludwig_music_data/mp3/lati...</td>\n",
       "    </tr>\n",
       "    <tr>\n",
       "      <th>3</th>\n",
       "      <td>3</td>\n",
       "      <td>02GUIyXZ9RNusgUocEQIzN</td>\n",
       "      <td>La Bottine Souriante</td>\n",
       "      <td>latin</td>\n",
       "      <td>Ma Paillasse</td>\n",
       "      <td>[latin---salsa]</td>\n",
       "      <td>/home/egor/datasets/ludwig_music_data/mp3/lati...</td>\n",
       "    </tr>\n",
       "    <tr>\n",
       "      <th>4</th>\n",
       "      <td>4</td>\n",
       "      <td>02IFfsWwxek6h9qLEH4sRA</td>\n",
       "      <td>Gipsy Kings</td>\n",
       "      <td>latin</td>\n",
       "      <td>Estrellas</td>\n",
       "      <td>[latin---flamenco]</td>\n",
       "      <td>/home/egor/datasets/ludwig_music_data/mp3/lati...</td>\n",
       "    </tr>\n",
       "  </tbody>\n",
       "</table>\n",
       "</div>"
      ],
      "text/plain": [
       "   index                     ids                artist  genre  \\\n",
       "0      0  0010BnyFuw94XFautS2uJp         Jimmy Buffett  latin   \n",
       "1      1  00RhgYVH6DrHl0SuZWDp8W         Jimmy Buffett  latin   \n",
       "2      2  01k69xxIQGL94F8IfIkI5l      Los Delinqüentes  latin   \n",
       "3      3  02GUIyXZ9RNusgUocEQIzN  La Bottine Souriante  latin   \n",
       "4      4  02IFfsWwxek6h9qLEH4sRA           Gipsy Kings  latin   \n",
       "\n",
       "                  name                        subgenres  \\\n",
       "0      La Vie Dansante                 [latin---cubano]   \n",
       "1      Brown Eyed Girl                 [latin---cubano]   \n",
       "2  Fumata Del Ladrillo  [latin---flamenco, rock---punk]   \n",
       "3         Ma Paillasse                  [latin---salsa]   \n",
       "4            Estrellas               [latin---flamenco]   \n",
       "\n",
       "                                                urls  \n",
       "0  /home/egor/datasets/ludwig_music_data/mp3/lati...  \n",
       "1  /home/egor/datasets/ludwig_music_data/mp3/lati...  \n",
       "2  /home/egor/datasets/ludwig_music_data/mp3/lati...  \n",
       "3  /home/egor/datasets/ludwig_music_data/mp3/lati...  \n",
       "4  /home/egor/datasets/ludwig_music_data/mp3/lati...  "
      ]
     },
     "execution_count": 15,
     "metadata": {},
     "output_type": "execute_result"
    }
   ],
   "source": [
    "metadata = (music_data.select_columns(['index', 'ids'])\n",
    "                     .to_pandas()\n",
    "                     .merge(right=clean_labels, how=\"left\", left_on='ids', right_on='index')\n",
    "                     .merge(right=music_paths, how=\"left\", left_on='ids', right_on='ids')\n",
    "                     .drop(\"index_y\", axis=1)\n",
    "                     .rename({\"index_x\": \"index\"}, axis=1)\n",
    "        )\n",
    "metadata.head()"
   ]
  },
  {
   "cell_type": "code",
   "execution_count": 16,
   "id": "5ebca31c-25d4-4958-9231-7db17ecc5102",
   "metadata": {},
   "outputs": [
    {
     "data": {
      "text/plain": [
       "[{'artist': 'Jimmy Buffett',\n",
       "  'genre': 'latin',\n",
       "  'name': 'La Vie Dansante',\n",
       "  'subgenres': ['latin---cubano'],\n",
       "  'urls': '/home/egor/datasets/ludwig_music_data/mp3/latin/0010BnyFuw94XFautS2uJp.mp3'},\n",
       " {'artist': 'Jimmy Buffett',\n",
       "  'genre': 'latin',\n",
       "  'name': 'Brown Eyed Girl',\n",
       "  'subgenres': ['latin---cubano'],\n",
       "  'urls': '/home/egor/datasets/ludwig_music_data/mp3/latin/00RhgYVH6DrHl0SuZWDp8W.mp3'},\n",
       " {'artist': 'Los Delinqüentes',\n",
       "  'genre': 'latin',\n",
       "  'name': 'Fumata Del Ladrillo',\n",
       "  'subgenres': ['latin---flamenco', 'rock---punk'],\n",
       "  'urls': '/home/egor/datasets/ludwig_music_data/mp3/latin/01k69xxIQGL94F8IfIkI5l.mp3'}]"
      ]
     },
     "execution_count": 16,
     "metadata": {},
     "output_type": "execute_result"
    }
   ],
   "source": [
    "payload = metadata.drop(['index', 'ids'], axis=1).to_dict(orient=\"records\")\n",
    "payload[:3]"
   ]
  },
  {
   "cell_type": "markdown",
   "id": "435837b8-41f8-4dd4-ad8e-b2c1c427ff19",
   "metadata": {},
   "source": [
    "# Embeddings"
   ]
  },
  {
   "cell_type": "code",
   "execution_count": 17,
   "id": "cef9e18d-be17-412e-a074-e0bfa36e731f",
   "metadata": {},
   "outputs": [
    {
     "name": "stdout",
     "output_type": "stream",
     "text": [
      "Checkpoint path: /home/egor/panns_data/Cnn14_mAP=0.431.pth\n",
      "GPU number: 1\n"
     ]
    }
   ],
   "source": [
    "at = AudioTagging(checkpoint_path=None, device='cuda')"
   ]
  },
  {
   "cell_type": "code",
   "execution_count": 18,
   "id": "b06c369d-b414-4e2d-b0e1-305948999556",
   "metadata": {},
   "outputs": [],
   "source": [
    "def get_panns_embs(batch):\n",
    "    arrays = [torch.tensor(val['array'], dtype=torch.float64) for val in batch['audio']]\n",
    "    inputs = torch.nn.utils.rnn.pad_sequence(arrays, batch_first=True, padding_value=0).type(torch.cuda.FloatTensor)\n",
    "    _, embedding = at.inference(inputs)\n",
    "    batch['panns_embeddings'] = embedding\n",
    "    return batch"
   ]
  },
  {
   "cell_type": "code",
   "execution_count": 19,
   "id": "1bac9d34-0b0f-4cd7-89ef-85549f80756c",
   "metadata": {},
   "outputs": [
    {
     "data": {
      "text/plain": [
       "Dataset({\n",
       "    features: ['audio', 'index', 'ids', 'panns_embeddings'],\n",
       "    num_rows: 979\n",
       "})"
      ]
     },
     "execution_count": 19,
     "metadata": {},
     "output_type": "execute_result"
    }
   ],
   "source": [
    "music_data = music_data.map(get_panns_embs, batched=True, batch_size=8)\n",
    "music_data"
   ]
  },
  {
   "cell_type": "markdown",
   "id": "a1a6ebe6-4f49-42fd-9d8d-8d05676d9f76",
   "metadata": {},
   "source": [
    "# Building a Recommendation System"
   ]
  },
  {
   "cell_type": "markdown",
   "id": "9691e49a-d2c0-4e33-b824-b2730546bce9",
   "metadata": {},
   "source": [
    "## Insert data to qdrant"
   ]
  },
  {
   "cell_type": "code",
   "execution_count": 20,
   "id": "99530e11-a386-4d60-ae7d-c72ba632e7e0",
   "metadata": {},
   "outputs": [
    {
     "data": {
      "text/plain": [
       "UpdateResult(operation_id=0, status=<UpdateStatus.COMPLETED: 'completed'>)"
      ]
     },
     "execution_count": 20,
     "metadata": {},
     "output_type": "execute_result"
    }
   ],
   "source": [
    "client.upsert(\n",
    "    collection_name=my_collection,\n",
    "    points=models.Batch(\n",
    "        ids=music_data['index'],\n",
    "        vectors=music_data['panns_embeddings'],\n",
    "        payloads=payload\n",
    "    )\n",
    ")"
   ]
  },
  {
   "cell_type": "code",
   "execution_count": 21,
   "id": "ecc78fdc-ed73-495d-86a0-e62ca369d8ac",
   "metadata": {},
   "outputs": [
    {
     "data": {
      "text/plain": [
       "{'artist': 'La Bottine Souriante',\n",
       " 'genre': 'latin',\n",
       " 'name': 'Chant de la luette',\n",
       " 'subgenres': ['latin---salsa'],\n",
       " 'urls': '/home/egor/datasets/ludwig_music_data/mp3/latin/0lyeChzw7IWf9ytZ7S0jDK.mp3'}"
      ]
     },
     "execution_count": 21,
     "metadata": {},
     "output_type": "execute_result"
    }
   ],
   "source": [
    "result = client.retrieve(\n",
    "    collection_name=my_collection,\n",
    "    ids=[100],\n",
    "    with_vectors=True # we can turn this on and off depending on our needs\n",
    ")\n",
    "result[0].payload"
   ]
  },
  {
   "cell_type": "code",
   "execution_count": 22,
   "id": "56067fde-55ea-4c8e-9de4-29d7adaa0599",
   "metadata": {},
   "outputs": [
    {
     "data": {
      "text/html": [
       "<div>\n",
       "<style scoped>\n",
       "    .dataframe tbody tr th:only-of-type {\n",
       "        vertical-align: middle;\n",
       "    }\n",
       "\n",
       "    .dataframe tbody tr th {\n",
       "        vertical-align: top;\n",
       "    }\n",
       "\n",
       "    .dataframe thead th {\n",
       "        text-align: right;\n",
       "    }\n",
       "</style>\n",
       "<table border=\"1\" class=\"dataframe\">\n",
       "  <thead>\n",
       "    <tr style=\"text-align: right;\">\n",
       "      <th></th>\n",
       "      <th>index</th>\n",
       "      <th>ids</th>\n",
       "      <th>artist</th>\n",
       "      <th>genre</th>\n",
       "      <th>name</th>\n",
       "      <th>subgenres</th>\n",
       "      <th>urls</th>\n",
       "    </tr>\n",
       "  </thead>\n",
       "  <tbody>\n",
       "    <tr>\n",
       "      <th>122</th>\n",
       "      <td>122</td>\n",
       "      <td>0v1oaOqkXpubdykx58BQwY</td>\n",
       "      <td>Celia Cruz</td>\n",
       "      <td>latin</td>\n",
       "      <td>Juancito Trucupey</td>\n",
       "      <td>[latin---salsa]</td>\n",
       "      <td>/home/egor/datasets/ludwig_music_data/mp3/lati...</td>\n",
       "    </tr>\n",
       "    <tr>\n",
       "      <th>150</th>\n",
       "      <td>150</td>\n",
       "      <td>19zWrDlXew0Fzouu7a4qhx</td>\n",
       "      <td>Celia Cruz</td>\n",
       "      <td>latin</td>\n",
       "      <td>Cuando Sali De Cuba</td>\n",
       "      <td>[latin---salsa]</td>\n",
       "      <td>/home/egor/datasets/ludwig_music_data/mp3/lati...</td>\n",
       "    </tr>\n",
       "    <tr>\n",
       "      <th>178</th>\n",
       "      <td>178</td>\n",
       "      <td>1MYds6o9aN2Wxa4TDxcJPB</td>\n",
       "      <td>Celia Cruz</td>\n",
       "      <td>latin</td>\n",
       "      <td>Mi vida es cantar</td>\n",
       "      <td>[latin---salsa]</td>\n",
       "      <td>/home/egor/datasets/ludwig_music_data/mp3/lati...</td>\n",
       "    </tr>\n",
       "    <tr>\n",
       "      <th>459</th>\n",
       "      <td>459</td>\n",
       "      <td>3WphzI2fb2NTUsfja51U7P</td>\n",
       "      <td>Celia Cruz</td>\n",
       "      <td>latin</td>\n",
       "      <td>Dile que por mi no tema</td>\n",
       "      <td>[latin---salsa]</td>\n",
       "      <td>/home/egor/datasets/ludwig_music_data/mp3/lati...</td>\n",
       "    </tr>\n",
       "  </tbody>\n",
       "</table>\n",
       "</div>"
      ],
      "text/plain": [
       "     index                     ids      artist  genre  \\\n",
       "122    122  0v1oaOqkXpubdykx58BQwY  Celia Cruz  latin   \n",
       "150    150  19zWrDlXew0Fzouu7a4qhx  Celia Cruz  latin   \n",
       "178    178  1MYds6o9aN2Wxa4TDxcJPB  Celia Cruz  latin   \n",
       "459    459  3WphzI2fb2NTUsfja51U7P  Celia Cruz  latin   \n",
       "\n",
       "                        name        subgenres  \\\n",
       "122        Juancito Trucupey  [latin---salsa]   \n",
       "150      Cuando Sali De Cuba  [latin---salsa]   \n",
       "178        Mi vida es cantar  [latin---salsa]   \n",
       "459  Dile que por mi no tema  [latin---salsa]   \n",
       "\n",
       "                                                  urls  \n",
       "122  /home/egor/datasets/ludwig_music_data/mp3/lati...  \n",
       "150  /home/egor/datasets/ludwig_music_data/mp3/lati...  \n",
       "178  /home/egor/datasets/ludwig_music_data/mp3/lati...  \n",
       "459  /home/egor/datasets/ludwig_music_data/mp3/lati...  "
      ]
     },
     "execution_count": 22,
     "metadata": {},
     "output_type": "execute_result"
    }
   ],
   "source": [
    "metadata.query(\"artist == 'Celia Cruz'\")"
   ]
  },
  {
   "cell_type": "markdown",
   "id": "cab74b25-1459-4628-b347-4962dc8b5538",
   "metadata": {},
   "source": [
    "## Search by vector"
   ]
  },
  {
   "cell_type": "code",
   "execution_count": 23,
   "id": "551db895-7152-4b18-aa58-97bbae3ca78d",
   "metadata": {},
   "outputs": [
    {
     "data": {
      "text/plain": [
       "[ScoredPoint(id=150, version=0, score=1.0, payload={'artist': 'Celia Cruz', 'genre': 'latin', 'name': 'Cuando Sali De Cuba', 'subgenres': ['latin---salsa'], 'urls': '/home/egor/datasets/ludwig_music_data/mp3/latin/19zWrDlXew0Fzouu7a4qhx.mp3'}, vector=None, shard_key=None),\n",
       " ScoredPoint(id=730, version=0, score=0.9206339, payload={'artist': 'Cartola', 'genre': 'latin', 'name': 'Fita meus olhos', 'subgenres': ['latin---samba'], 'urls': '/home/egor/datasets/ludwig_music_data/mp3/latin/5iyRJ796USPTXEO4JXO0gC.mp3'}, vector=None, shard_key=None),\n",
       " ScoredPoint(id=251, version=0, score=0.9088161, payload={'artist': \"Oscar D'León\", 'genre': 'latin', 'name': 'Volver a Verte', 'subgenres': ['latin---salsa'], 'urls': '/home/egor/datasets/ludwig_music_data/mp3/latin/1kD5EOoZ45kjq50NLfhRGc.mp3'}, vector=None, shard_key=None),\n",
       " ScoredPoint(id=739, version=0, score=0.90296745, payload={'artist': 'Cartola', 'genre': 'latin', 'name': 'Verde que te quero rosa', 'subgenres': ['latin---samba'], 'urls': '/home/egor/datasets/ludwig_music_data/mp3/latin/5plwAx4oAWnuhSwivS5Yeg.mp3'}, vector=None, shard_key=None),\n",
       " ScoredPoint(id=268, version=0, score=0.8995228, payload={'artist': 'Chicha Libre', 'genre': 'latin', 'name': 'La cumbia del zapatero', 'subgenres': ['latin---salsa'], 'urls': '/home/egor/datasets/ludwig_music_data/mp3/latin/1ufmU58QldvKrHuATBb3kU.mp3'}, vector=None, shard_key=None),\n",
       " ScoredPoint(id=766, version=0, score=0.88920015, payload={'artist': 'Ska Cubano', 'genre': 'latin', 'name': 'Tequila', 'subgenres': ['latin---cubano', 'reggae'], 'urls': '/home/egor/datasets/ludwig_music_data/mp3/latin/618iBzv4oH2wb0WElQV9ru.mp3'}, vector=None, shard_key=None),\n",
       " ScoredPoint(id=7, version=0, score=0.888242, payload={'artist': 'Ibrahim Ferrer', 'genre': 'latin', 'name': 'Nuestra Ruca', 'subgenres': ['latin---cubano'], 'urls': '/home/egor/datasets/ludwig_music_data/mp3/latin/02vPUwCweGxigItnNf2Jfr.mp3'}, vector=None, shard_key=None),\n",
       " ScoredPoint(id=467, version=0, score=0.8835144, payload={'artist': 'La-33', 'genre': 'latin', 'name': 'Soledad', 'subgenres': ['latin---salsa'], 'urls': '/home/egor/datasets/ludwig_music_data/mp3/latin/3bpqoOSDwdaK003DPMvDJQ.mp3'}, vector=None, shard_key=None),\n",
       " ScoredPoint(id=388, version=0, score=0.8830249, payload={'artist': 'David Byrne', 'genre': 'latin', 'name': 'Loco De Amor', 'subgenres': ['latin---salsa', 'latin---samba', 'rock---pop rock'], 'urls': '/home/egor/datasets/ludwig_music_data/mp3/latin/2uJsn2yi8HVZ8qwICHcNSW.mp3'}, vector=None, shard_key=None),\n",
       " ScoredPoint(id=139, version=0, score=0.88203025, payload={'artist': 'Ibrahim Ferrer', 'genre': 'latin', 'name': 'Qué bueno baila usted', 'subgenres': ['latin---cubano'], 'urls': '/home/egor/datasets/ludwig_music_data/mp3/latin/16FEEqvnZKcgfA5esxe5kL.mp3'}, vector=None, shard_key=None)]"
      ]
     },
     "execution_count": 23,
     "metadata": {},
     "output_type": "execute_result"
    }
   ],
   "source": [
    "search_result = client.search(\n",
    "    collection_name=my_collection,\n",
    "    query_vector=music_data[150]['panns_embeddings'],\n",
    "    limit=10\n",
    ")\n",
    "search_result"
   ]
  },
  {
   "cell_type": "markdown",
   "id": "0c29bb61-ab0d-4400-81a2-e269f2cec959",
   "metadata": {},
   "source": [
    "## Use recommendation API"
   ]
  },
  {
   "cell_type": "code",
   "execution_count": 24,
   "id": "ff1ccbbb-38a0-44d7-bbae-71be44b74def",
   "metadata": {},
   "outputs": [
    {
     "data": {
      "text/plain": [
       "[ScoredPoint(id=384, version=0, score=0.9668472, payload={'artist': 'Gilberto Santa Rosa', 'genre': 'latin', 'name': 'Perdoname', 'subgenres': ['latin---salsa'], 'urls': '/home/egor/datasets/ludwig_music_data/mp3/latin/2qqrgPaRZow7lrLttDL6Im.mp3'}, vector=None, shard_key=None),\n",
       " ScoredPoint(id=424, version=0, score=0.9633508, payload={'artist': 'Gilberto Santa Rosa', 'genre': 'latin', 'name': 'Amanecer Borincano', 'subgenres': ['latin---salsa'], 'urls': '/home/egor/datasets/ludwig_music_data/mp3/latin/39FQfusOwKnPCjOgQHcx6S.mp3'}, vector=None, shard_key=None),\n",
       " ScoredPoint(id=190, version=0, score=0.9624211, payload={'artist': 'Luigi Texidor', 'genre': 'latin', 'name': 'Mi Testamento', 'subgenres': ['latin---salsa'], 'urls': '/home/egor/datasets/ludwig_music_data/mp3/latin/1RIdI5c7RjjagAcMA5ixpv.mp3'}, vector=None, shard_key=None),\n",
       " ScoredPoint(id=92, version=0, score=0.9598112, payload={'artist': 'Tito Puente', 'genre': 'latin', 'name': 'Mambo Gozón', 'subgenres': ['latin---samba'], 'urls': '/home/egor/datasets/ludwig_music_data/mp3/latin/0hk1gSyn3wKgdxqF6qaKUZ.mp3'}, vector=None, shard_key=None),\n",
       " ScoredPoint(id=886, version=0, score=0.95851684, payload={'artist': 'Tony Vega', 'genre': 'latin', 'name': 'Ella es', 'subgenres': ['latin---salsa'], 'urls': '/home/egor/datasets/ludwig_music_data/mp3/latin/718X6sjlHdmOzdTfJv4tUc.mp3'}, vector=None, shard_key=None)]"
      ]
     },
     "execution_count": 24,
     "metadata": {},
     "output_type": "execute_result"
    }
   ],
   "source": [
    "client.recommend(\n",
    "    collection_name=my_collection,\n",
    "    positive=[178, 122],\n",
    "    limit=5\n",
    ")"
   ]
  },
  {
   "cell_type": "markdown",
   "id": "88e17001-e3e6-45a2-a059-442d0ece5e74",
   "metadata": {},
   "source": [
    "## Use filters"
   ]
  },
  {
   "cell_type": "code",
   "execution_count": 25,
   "id": "462cd953-beec-43ad-b9c4-38948a5a703f",
   "metadata": {},
   "outputs": [
    {
     "data": {
      "text/plain": [
       "[ScoredPoint(id=540, version=0, score=0.8629072, payload={'artist': 'Tito Puente', 'genre': 'latin', 'name': 'Cual Es La Idea', 'subgenres': ['latin---samba'], 'urls': '/home/egor/datasets/ludwig_music_data/mp3/latin/4CNCGwxNp9rnVqo2fzmDYK.mp3'}, vector=None, shard_key=None),\n",
       " ScoredPoint(id=493, version=0, score=0.8370813, payload={'artist': 'Tito Nieves', 'genre': 'latin', 'name': 'De mi enamórate', 'subgenres': ['latin---samba'], 'urls': '/home/egor/datasets/ludwig_music_data/mp3/latin/3nnQUYKWBmHlfm5XpdWqNr.mp3'}, vector=None, shard_key=None),\n",
       " ScoredPoint(id=92, version=0, score=0.79911536, payload={'artist': 'Tito Puente', 'genre': 'latin', 'name': 'Mambo Gozón', 'subgenres': ['latin---samba'], 'urls': '/home/egor/datasets/ludwig_music_data/mp3/latin/0hk1gSyn3wKgdxqF6qaKUZ.mp3'}, vector=None, shard_key=None),\n",
       " ScoredPoint(id=856, version=0, score=0.7816363, payload={'artist': 'Tito Puente', 'genre': 'latin', 'name': 'Son de la Loma', 'subgenres': ['latin---samba'], 'urls': '/home/egor/datasets/ludwig_music_data/mp3/latin/6c8qeNyZrTB8E3RKdPdNBh.mp3'}, vector=None, shard_key=None),\n",
       " ScoredPoint(id=892, version=0, score=0.77744174, payload={'artist': 'David Byrne', 'genre': 'latin', 'name': 'Make Believe Mambo', 'subgenres': ['latin---salsa', 'latin---samba', 'rock---pop rock'], 'urls': '/home/egor/datasets/ludwig_music_data/mp3/latin/74V0PhSWlBtHvBQAMYMgsX.mp3'}, vector=None, shard_key=None)]"
      ]
     },
     "execution_count": 25,
     "metadata": {},
     "output_type": "execute_result"
    }
   ],
   "source": [
    "marc_anthony_valio_la_pena = music_data[301]\n",
    "\n",
    "samba_songs = models.Filter(\n",
    "    must=[models.FieldCondition(key=\"subgenres\", match=models.MatchAny(any=['latin---samba']))]\n",
    ")\n",
    "\n",
    "results = client.recommend(\n",
    "    collection_name=my_collection,\n",
    "    query_filter=samba_songs,\n",
    "    positive=[marc_anthony_valio_la_pena['index'], 178, 122, 459],\n",
    "    negative=[385],\n",
    "    limit=5\n",
    ")\n",
    "results"
   ]
  }
 ],
 "metadata": {
  "kernelspec": {
   "display_name": "qdrant_music_recs",
   "language": "python",
   "name": "qdrant_music_recs"
  },
  "language_info": {
   "codemirror_mode": {
    "name": "ipython",
    "version": 3
   },
   "file_extension": ".py",
   "mimetype": "text/x-python",
   "name": "python",
   "nbconvert_exporter": "python",
   "pygments_lexer": "ipython3",
   "version": "3.10.12"
  }
 },
 "nbformat": 4,
 "nbformat_minor": 5
}
